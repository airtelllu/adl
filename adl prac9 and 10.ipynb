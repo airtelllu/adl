{
 "cells": [
  {
   "cell_type": "code",
   "execution_count": null,
   "id": "2f2938b0",
   "metadata": {},
   "outputs": [],
   "source": [
    "Aim: Write a program for object detection from the image.\n"
   ]
  },
  {
   "cell_type": "code",
   "execution_count": 1,
   "id": "e7e5146d",
   "metadata": {},
   "outputs": [
    {
     "name": "stdout",
     "output_type": "stream",
     "text": [
      "Downloading data from https://storage.googleapis.com/tensorflow/keras-applications/vgg16/vgg16_weights_tf_dim_ordering_tf_kernels.h5\n",
      "553467096/553467096 [==============================] - 93s 0us/step\n",
      "1/1 [==============================] - 2s 2s/step\n",
      "Downloading data from https://storage.googleapis.com/download.tensorflow.org/data/imagenet_class_index.json\n",
      "35363/35363 [==============================] - 0s 0us/step\n",
      "necklace: 99.65%\n",
      "chain: 0.25%\n",
      "starfish: 0.02%\n",
      "chain_mail: 0.02%\n",
      "hook: 0.01%\n"
     ]
    }
   ],
   "source": [
    "import numpy as np\n",
    "import tensorflow as tf\n",
    "from tensorflow.keras.applications.vgg16 import VGG16, preprocess_input,decode_predictions\n",
    "from tensorflow.keras.preprocessing.image import load_img, img_to_array\n",
    "# Load the VGG16 model\n",
    "model = VGG16()\n",
    "# Load the image to detect objects in\n",
    "img = load_img('objectdetectimage.jpg', target_size=(224, 224))\n",
    "img_arr = img_to_array(img)\n",
    "img_arr = np.expand_dims(img_arr, axis=0)\n",
    "img_arr = preprocess_input(img_arr)\n",
    "# Predict the objects in the image\n",
    "preds = model.predict(img_arr)\n",
    "decoded_preds = decode_predictions(preds, top=5)[0]\n",
    "# Print the predicted objects and their probabilities\n",
    "for pred in decoded_preds:\n",
    "    print(f\"{pred[1]}: {pred[2]*100:.2f}%\")\n"
   ]
  },
  {
   "cell_type": "code",
   "execution_count": 1,
   "id": "e7710680",
   "metadata": {},
   "outputs": [
    {
     "name": "stdout",
     "output_type": "stream",
     "text": [
      "1/1 [==============================] - 4s 4s/step\n",
      "Object  1 :  birdhouse , Probability:  0.109786406\n",
      "Object  2 :  soccer_ball , Probability:  0.09997658\n"
     ]
    }
   ],
   "source": [
    "import tensorflow as tf\n",
    "import numpy as np\n",
    "from tensorflow.keras.preprocessing.image import load_img\n",
    "from tensorflow.keras.preprocessing.image import img_to_array\n",
    "from tensorflow.keras.applications.vgg16 import VGG16\n",
    "from tensorflow.keras.applications.vgg16 import preprocess_input\n",
    "from tensorflow.keras.applications.vgg16 import decode_predictions\n",
    "# Load the VGG16 model with pre-trained weights\n",
    "model = VGG16()\n",
    "# Load the image\n",
    "image = load_img('objectdetectimage2.jpg', target_size=(224, 224))\n",
    "# Convert the image to a numpy array\n",
    "image = img_to_array(image)\n",
    "# Reshape the image data for VGG\n",
    "image = image.reshape((1, image.shape[0], image.shape[1], image.shape[2]))\n",
    "# Preprocess the image\n",
    "image = preprocess_input(image)\n",
    "# Make predictions on the image using the VGG model\n",
    "predictions = model.predict(image)\n",
    "# Decode the predictions\n",
    "decoded_predictions = decode_predictions(predictions, top=2)\n",
    "# Print the predictions with their probabilities\n",
    "for i, prediction in enumerate(decoded_predictions[0]):\n",
    "    print(\"Object \", i+1, \": \", prediction[1], \", Probability: \", prediction[2])"
   ]
  },
  {
   "cell_type": "code",
   "execution_count": null,
   "id": "523f366b",
   "metadata": {},
   "outputs": [],
   "source": [
    "Aim: Write a program for object detection using pre-trained models to use object detection.\n",
    "Theory: VGG stands for Visual Geometry Group; it is a standard deep Convolutional Neural Network\n",
    "(CNN) architecture with multiple layers. The “deep” refers to the number of layers with VGG-16 or VGG\u000219 consisting of 16 and 19 convolutional layers.\n",
    "Code:\n"
   ]
  }
 ],
 "metadata": {
  "kernelspec": {
   "display_name": "Python 3 (ipykernel)",
   "language": "python",
   "name": "python3"
  },
  "language_info": {
   "codemirror_mode": {
    "name": "ipython",
    "version": 3
   },
   "file_extension": ".py",
   "mimetype": "text/x-python",
   "name": "python",
   "nbconvert_exporter": "python",
   "pygments_lexer": "ipython3",
   "version": "3.10.9"
  }
 },
 "nbformat": 4,
 "nbformat_minor": 5
}
